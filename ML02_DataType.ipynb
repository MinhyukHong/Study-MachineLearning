{
 "cells": [
  {
   "cell_type": "markdown",
   "id": "1c79614b",
   "metadata": {},
   "source": [
    "## List"
   ]
  },
  {
   "cell_type": "code",
   "execution_count": 17,
   "id": "6ed88ed1",
   "metadata": {},
   "outputs": [
    {
     "name": "stdout",
     "output_type": "stream",
     "text": [
      "50\n",
      "a[0:2] == [10, 20]\n",
      "a[1:] == [20, 30, 40, 50]\n",
      "a[:3] == [10, 20, 30]\n",
      "a[:-2] == [10, 20, 30]\n",
      "a[:] == [10, 20, 30, 40, 50]\n"
     ]
    }
   ],
   "source": [
    "a = [10, 20, 30, 40, 50]\n",
    "print(a[-1])\n",
    "print(\"a[0:2] ==\", a[0:2])\n",
    "print(\"a[1:] ==\", a[1:])\n",
    "print(\"a[:3] ==\", a[:3])\n",
    "print(\"a[:-2] ==\", a[:-2])\n",
    "print(\"a[:] ==\", a[:])"
   ]
  },
  {
   "cell_type": "code",
   "execution_count": 5,
   "id": "01ebd723",
   "metadata": {},
   "outputs": [
    {
     "name": "stdout",
     "output_type": "stream",
     "text": [
      "[True, 3.14]\n",
      "True\n"
     ]
    }
   ],
   "source": [
    "b = [10, 20, \"Hello\", [True, 3.14]]\n",
    "print(b[-1])\n",
    "print(b[-1][0])"
   ]
  },
  {
   "cell_type": "code",
   "execution_count": 6,
   "id": "76bc8e10",
   "metadata": {},
   "outputs": [
    {
     "name": "stdout",
     "output_type": "stream",
     "text": [
      "[100, 200, 300]\n"
     ]
    }
   ],
   "source": [
    "c = []\n",
    "c.append(100)\n",
    "c.append(200)\n",
    "c.append(300)\n",
    "print(c)"
   ]
  },
  {
   "cell_type": "markdown",
   "id": "8b0025b7",
   "metadata": {},
   "source": [
    "## Tuple"
   ]
  },
  {
   "cell_type": "code",
   "execution_count": 18,
   "id": "5a78dc01",
   "metadata": {},
   "outputs": [],
   "source": [
    "a = (10, 20, 30, 40, 50)"
   ]
  },
  {
   "cell_type": "code",
   "execution_count": 19,
   "id": "8af46023",
   "metadata": {},
   "outputs": [
    {
     "name": "stdout",
     "output_type": "stream",
     "text": [
      "50\n",
      "a[0:2] == (10, 20)\n",
      "a[1:] == (20, 30, 40, 50)\n",
      "a[:3] == (10, 20, 30)\n",
      "a[:-2] == (10, 20, 30)\n",
      "a[:] == (10, 20, 30, 40, 50)\n"
     ]
    }
   ],
   "source": [
    "print(a[-1])\n",
    "print(\"a[0:2] ==\", a[0:2])\n",
    "print(\"a[1:] ==\", a[1:])\n",
    "print(\"a[:3] ==\", a[:3])\n",
    "print(\"a[:-2] ==\", a[:-2])\n",
    "print(\"a[:] ==\", a[:])"
   ]
  },
  {
   "cell_type": "code",
   "execution_count": 21,
   "id": "d3ecac0d",
   "metadata": {},
   "outputs": [
    {
     "ename": "TypeError",
     "evalue": "'tuple' object does not support item assignment",
     "output_type": "error",
     "traceback": [
      "\u001b[0;31m---------------------------------------------------------------------------\u001b[0m",
      "\u001b[0;31mTypeError\u001b[0m                                 Traceback (most recent call last)",
      "\u001b[0;32m/var/folders/sc/g31h4x0x4tg1ndt0f3_ld66m0000gn/T/ipykernel_7435/3481528092.py\u001b[0m in \u001b[0;36m<module>\u001b[0;34m\u001b[0m\n\u001b[0;32m----> 1\u001b[0;31m \u001b[0ma\u001b[0m\u001b[0;34m[\u001b[0m\u001b[0;36m0\u001b[0m\u001b[0;34m]\u001b[0m \u001b[0;34m=\u001b[0m \u001b[0;36m100\u001b[0m\u001b[0;34m\u001b[0m\u001b[0;34m\u001b[0m\u001b[0m\n\u001b[0m",
      "\u001b[0;31mTypeError\u001b[0m: 'tuple' object does not support item assignment"
     ]
    }
   ],
   "source": [
    "a[0] = 100"
   ]
  },
  {
   "cell_type": "markdown",
   "id": "b7f5c888",
   "metadata": {},
   "source": [
    "## Dictionary"
   ]
  },
  {
   "cell_type": "code",
   "execution_count": 22,
   "id": "d52e1d48",
   "metadata": {},
   "outputs": [],
   "source": [
    "score = {\"Kim\":90, \"Lee\":85, \"Jun\":95}"
   ]
  },
  {
   "cell_type": "code",
   "execution_count": 23,
   "id": "48dbe122",
   "metadata": {},
   "outputs": [
    {
     "name": "stdout",
     "output_type": "stream",
     "text": [
      "score['Kim'] == 90\n"
     ]
    }
   ],
   "source": [
    "print(\"score['Kim'] ==\", score[\"Kim\"])"
   ]
  },
  {
   "cell_type": "code",
   "execution_count": 26,
   "id": "03677e4f",
   "metadata": {},
   "outputs": [
    {
     "name": "stdout",
     "output_type": "stream",
     "text": [
      "{'Kim': 90, 'Lee': 85, 'Jun': 95, 'Han': 100}\n"
     ]
    }
   ],
   "source": [
    "score[\"Han\"] = 100 # 새 원소 추가\n",
    "print(score) # 딕셔너리는 입력한 순서대로 데이터가 들어가는 것이 아니므로 주의"
   ]
  },
  {
   "cell_type": "code",
   "execution_count": 30,
   "id": "a7778725",
   "metadata": {},
   "outputs": [
    {
     "name": "stdout",
     "output_type": "stream",
     "text": [
      "score key == dict_keys(['Kim', 'Lee', 'Jun', 'Han'])\n",
      "score value == dict_values([90, 85, 95, 100])\n",
      "score items == dict_items([('Kim', 90), ('Lee', 85), ('Jun', 95), ('Han', 100)])\n"
     ]
    }
   ],
   "source": [
    "print(\"score key ==\", score.keys())\n",
    "print(\"score value ==\", score.values())\n",
    "print(\"score items ==\", score.items())"
   ]
  },
  {
   "cell_type": "markdown",
   "id": "cfe7dc88",
   "metadata": {},
   "source": [
    "## String"
   ]
  },
  {
   "cell_type": "code",
   "execution_count": 39,
   "id": "462dd29d",
   "metadata": {},
   "outputs": [],
   "source": [
    "a = 'A73, CD'"
   ]
  },
  {
   "cell_type": "code",
   "execution_count": 40,
   "id": "e7b83219",
   "metadata": {},
   "outputs": [
    {
     "data": {
      "text/plain": [
       "'7'"
      ]
     },
     "execution_count": 40,
     "metadata": {},
     "output_type": "execute_result"
    }
   ],
   "source": [
    "a[1] # a[1]은 숫자 7이 아닌 문자열 7"
   ]
  },
  {
   "cell_type": "code",
   "execution_count": 41,
   "id": "0f3c83a9",
   "metadata": {},
   "outputs": [
    {
     "data": {
      "text/plain": [
       "'A73, CD, EFG'"
      ]
     },
     "execution_count": 41,
     "metadata": {},
     "output_type": "execute_result"
    }
   ],
   "source": [
    "a = a + ', EFG'\n",
    "a"
   ]
  },
  {
   "cell_type": "code",
   "execution_count": 43,
   "id": "9965b89b",
   "metadata": {},
   "outputs": [
    {
     "name": "stdout",
     "output_type": "stream",
     "text": [
      "['A73', ' CD', ' EFG']\n"
     ]
    }
   ],
   "source": [
    "b = a.split(',') # 특정 separator를 기준으로 문자열을 분리하여 list 타입으로 리턴\n",
    "print(b)"
   ]
  },
  {
   "cell_type": "markdown",
   "id": "83f9dbe4",
   "metadata": {},
   "source": [
    "## Useful function"
   ]
  },
  {
   "cell_type": "markdown",
   "id": "dcd67c47",
   "metadata": {},
   "source": [
    "type(data)- 입력 data의 데이터타입을 알려주는 함수<br>\n",
    "len(data)- 입력 data의 길이(요소의 개수)를 알려주는 함수<br>\n",
    "size(data)- 모든 원소의 개수를 알려주는 함수"
   ]
  },
  {
   "cell_type": "code",
   "execution_count": 48,
   "id": "41d48f73",
   "metadata": {},
   "outputs": [],
   "source": [
    "a = [10, 20, 30, 40, 50]\n",
    "b = (10, 20, 30, 40, 50)\n",
    "c = {\"Kim\":90, \"Lee\":80}\n",
    "d = 'Seoul, Korea'\n",
    "e = [[100, 200], [300, 400], [500, 600]]"
   ]
  },
  {
   "cell_type": "code",
   "execution_count": 56,
   "id": "f911ce10",
   "metadata": {},
   "outputs": [
    {
     "name": "stdout",
     "output_type": "stream",
     "text": [
      "<class 'list'> <class 'tuple'> <class 'dict'> <class 'str'> <class 'list'>\n"
     ]
    }
   ],
   "source": [
    "print(type(a), type(b), type(c), type(d), type(e))"
   ]
  },
  {
   "cell_type": "code",
   "execution_count": 57,
   "id": "e44c92bf",
   "metadata": {},
   "outputs": [
    {
     "name": "stdout",
     "output_type": "stream",
     "text": [
      "5 5 2 12 3\n"
     ]
    }
   ],
   "source": [
    "print(len(a), len(b), len(c), len(d), len(e))"
   ]
  },
  {
   "cell_type": "code",
   "execution_count": 69,
   "id": "9c5a5391",
   "metadata": {},
   "outputs": [
    {
     "ename": "NameError",
     "evalue": "name 'size' is not defined",
     "output_type": "error",
     "traceback": [
      "\u001b[0;31m---------------------------------------------------------------------------\u001b[0m",
      "\u001b[0;31mNameError\u001b[0m                                 Traceback (most recent call last)",
      "\u001b[0;32m/var/folders/sc/g31h4x0x4tg1ndt0f3_ld66m0000gn/T/ipykernel_7435/3094729140.py\u001b[0m in \u001b[0;36m<module>\u001b[0;34m\u001b[0m\n\u001b[0;32m----> 1\u001b[0;31m \u001b[0mprint\u001b[0m\u001b[0;34m(\u001b[0m\u001b[0msize\u001b[0m\u001b[0;34m(\u001b[0m\u001b[0;34m)\u001b[0m\u001b[0;34m)\u001b[0m\u001b[0;34m\u001b[0m\u001b[0;34m\u001b[0m\u001b[0m\n\u001b[0m",
      "\u001b[0;31mNameError\u001b[0m: name 'size' is not defined"
     ]
    }
   ],
   "source": [
    "print(size())"
   ]
  },
  {
   "cell_type": "markdown",
   "id": "fdbac9f9",
   "metadata": {},
   "source": [
    "list(data)- 입력 data를 리스트로 만들어 리턴하는 함수<br>\n",
    "str(data)- 입력되는 data를 문자열로 변환하여 리턴하는 함수<br>\n",
    "int(data)- 문자열 형태로 입력되는 숫자나 소수점이 있는 숫자 등이 정수 형태로 리턴하는 함수"
   ]
  },
  {
   "cell_type": "code",
   "execution_count": 70,
   "id": "aba2551e",
   "metadata": {},
   "outputs": [],
   "source": [
    "a = 'Hello'\n",
    "b = {\"Kim\":90, \"Lee\":80}"
   ]
  },
  {
   "cell_type": "code",
   "execution_count": 74,
   "id": "b1526c5b",
   "metadata": {},
   "outputs": [
    {
     "name": "stdout",
     "output_type": "stream",
     "text": [
      "['H', 'e', 'l', 'l', 'o']\n",
      "['Kim', 'Lee']\n",
      "[90, 80]\n",
      "[('Kim', 90), ('Lee', 80)]\n"
     ]
    }
   ],
   "source": [
    "print(list(a))\n",
    "print(list(b.keys()))\n",
    "print(list(b.values()))\n",
    "print(list(b.items()))"
   ]
  },
  {
   "cell_type": "code",
   "execution_count": 83,
   "id": "2e9001d9",
   "metadata": {},
   "outputs": [
    {
     "name": "stdout",
     "output_type": "stream",
     "text": [
      "3.14\n",
      "100\n",
      "[1, 2, 3]\n"
     ]
    }
   ],
   "source": [
    "print(str(3.14))\n",
    "print(str('100'))\n",
    "print(str([1, 2, 3]))"
   ]
  },
  {
   "cell_type": "code",
   "execution_count": 85,
   "id": "5f0edbac",
   "metadata": {},
   "outputs": [
    {
     "name": "stdout",
     "output_type": "stream",
     "text": [
      "100\n",
      "3\n"
     ]
    }
   ],
   "source": [
    "print(int('100'))\n",
    "print(int(3.14))"
   ]
  }
 ],
 "metadata": {
  "kernelspec": {
   "display_name": "Python 3 (ipykernel)",
   "language": "python",
   "name": "python3"
  },
  "language_info": {
   "codemirror_mode": {
    "name": "ipython",
    "version": 3
   },
   "file_extension": ".py",
   "mimetype": "text/x-python",
   "name": "python",
   "nbconvert_exporter": "python",
   "pygments_lexer": "ipython3",
   "version": "3.9.13"
  }
 },
 "nbformat": 4,
 "nbformat_minor": 5
}
