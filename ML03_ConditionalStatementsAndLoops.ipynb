{
 "cells": [
  {
   "cell_type": "markdown",
   "id": "e6bb8a5f",
   "metadata": {},
   "source": [
    "## if condition:"
   ]
  },
  {
   "cell_type": "code",
   "execution_count": 1,
   "id": "14edaccd",
   "metadata": {},
   "outputs": [
    {
     "name": "stdout",
     "output_type": "stream",
     "text": [
      "a == 1\n",
      "positive number\n"
     ]
    }
   ],
   "source": [
    "a = 1\n",
    "\n",
    "if a > 0:\n",
    "    print(\"a ==\", a)\n",
    "    print(\"positive number\")\n",
    "elif a == 0:\n",
    "    print(\"a ==\", a)\n",
    "    print(\"zero\")\n",
    "else:\n",
    "    print(\"a ==\", a)\n",
    "    print(\"negative number\")"
   ]
  },
  {
   "cell_type": "markdown",
   "id": "01e20d2b",
   "metadata": {},
   "source": [
    "## if condition in list, dict...:"
   ]
  },
  {
   "cell_type": "code",
   "execution_count": 2,
   "id": "54f24273",
   "metadata": {},
   "outputs": [
    {
     "name": "stdout",
     "output_type": "stream",
     "text": [
      "45 is not in list_data\n",
      "key1 is in dict_data\n"
     ]
    }
   ],
   "source": [
    "list_data = [10, 20, 30, 40, 50]\n",
    "dict_data = {'key1': 1, 'key2': 2}\n",
    "\n",
    "if 45 in list_data:\n",
    "    print(\"45 is in list_data\")\n",
    "else:\n",
    "    print(\"45 is not in list_data\")\n",
    "\n",
    "if 'key1' in dict_data:\n",
    "    print(\"key1 is in dict_data\")\n",
    "else:\n",
    "    print(\"key1 is not in dict_data\")"
   ]
  },
  {
   "cell_type": "markdown",
   "id": "f45a9c3b",
   "metadata": {},
   "source": [
    "## 반복문 - for"
   ]
  },
  {
   "cell_type": "markdown",
   "id": "56e3875a",
   "metadata": {},
   "source": [
    "### for variable in range(...):"
   ]
  },
  {
   "cell_type": "code",
   "execution_count": 1,
   "id": "e3e6b816",
   "metadata": {},
   "outputs": [
    {
     "name": "stdout",
     "output_type": "stream",
     "text": [
      "0 1 2 3 4 5 6 7 8 9 "
     ]
    }
   ],
   "source": [
    "for data in range(10):\n",
    "    print(data, \"\", end='') # end='' 다음 행으로 넘어가지 말고 같은 행에서 출력"
   ]
  },
  {
   "cell_type": "code",
   "execution_count": 2,
   "id": "e3e102cd",
   "metadata": {},
   "outputs": [
    {
     "name": "stdout",
     "output_type": "stream",
     "text": [
      "0 1 2 3 4 5 6 7 8 9 "
     ]
    }
   ],
   "source": [
    "for data in range(0, 10):\n",
    "    print(data, \"\", end='')"
   ]
  },
  {
   "cell_type": "code",
   "execution_count": 3,
   "id": "c124db61",
   "metadata": {},
   "outputs": [
    {
     "name": "stdout",
     "output_type": "stream",
     "text": [
      "0 2 4 6 8 "
     ]
    }
   ],
   "source": [
    "for data in range(0, 10, 2):\n",
    "    print(data, \"\", end='')"
   ]
  },
  {
   "cell_type": "markdown",
   "id": "174df455",
   "metadata": {},
   "source": [
    "### for variable in list, dict...:"
   ]
  },
  {
   "cell_type": "code",
   "execution_count": 8,
   "id": "e9337faf",
   "metadata": {},
   "outputs": [
    {
     "name": "stdout",
     "output_type": "stream",
     "text": [
      "10 20 30 40 50 "
     ]
    }
   ],
   "source": [
    "list_data = [10, 20, 30, 40, 50]\n",
    "\n",
    "for data in list_data:\n",
    "    print(data, \"\", end='')"
   ]
  },
  {
   "cell_type": "code",
   "execution_count": 13,
   "id": "7a7f6a50",
   "metadata": {},
   "outputs": [
    {
     "name": "stdout",
     "output_type": "stream",
     "text": [
      "key1 key2 "
     ]
    }
   ],
   "source": [
    "dict_data = {'key1': 1, 'key2': 2}\n",
    "\n",
    "for data in dict_data: # dict_data.keys(), dict_data.values()로 활용 가능\n",
    "    print(data, \"\", end='')"
   ]
  },
  {
   "cell_type": "code",
   "execution_count": 18,
   "id": "e1aa33f6",
   "metadata": {},
   "outputs": [
    {
     "name": "stdout",
     "output_type": "stream",
     "text": [
      "key1   1\n",
      "key2   2\n"
     ]
    }
   ],
   "source": [
    "for key, value in dict_data.items():\n",
    "    print(key, \" \", value)"
   ]
  },
  {
   "cell_type": "markdown",
   "id": "b6860592",
   "metadata": {},
   "source": [
    "## 반복문 - list comprehension\n",
    "리스트의 [...] 괄호 안에 for 루프를 사용하여 반복적으로 표현식(expression)을 실행해서 리스트 요소들을 정의하는 방법. <br>\n",
    "머신러닝 코드에서 자주 사용되는 기법."
   ]
  },
  {
   "cell_type": "code",
   "execution_count": 20,
   "id": "b1ee7774",
   "metadata": {},
   "outputs": [
    {
     "name": "stdout",
     "output_type": "stream",
     "text": [
      "[0, 1, 4, 9, 16]\n"
     ]
    }
   ],
   "source": [
    "list_data = [x**2 for x in range(5)]\n",
    "print(list_data)"
   ]
  },
  {
   "cell_type": "code",
   "execution_count": 24,
   "id": "5ac2bb71",
   "metadata": {},
   "outputs": [
    {
     "name": "stdout",
     "output_type": "stream",
     "text": [
      "all_data ==  [[1, 10], [2, 15], [3, 30], [4, 55]]\n",
      "x_data ==  [1, 2, 3, 4]\n",
      "y_data ==  [10, 15, 30, 55]\n"
     ]
    }
   ],
   "source": [
    "raw_data = [[1, 10], [2, 15], [3, 30], [4, 55]]\n",
    "\n",
    "all_data = [x for x in raw_data]\n",
    "x_data = [x[0] for x in raw_data]\n",
    "y_data = [x[1] for x in raw_data]\n",
    "\n",
    "print(\"all_data == \", all_data)\n",
    "print(\"x_data == \", x_data)\n",
    "print(\"y_data == \", y_data)"
   ]
  },
  {
   "cell_type": "markdown",
   "id": "861f2626",
   "metadata": {},
   "source": [
    "#### [Quiz] 짝수를 출력하는 다음 코드를 List Comprehension 으로 구현"
   ]
  },
  {
   "cell_type": "code",
   "execution_count": 25,
   "id": "1f931755",
   "metadata": {},
   "outputs": [
    {
     "name": "stdout",
     "output_type": "stream",
     "text": [
      "[0, 2, 4, 6, 8]\n"
     ]
    }
   ],
   "source": [
    "even_number = []\n",
    "\n",
    "for data in range(10):\n",
    "    if data % 2 == 0:\n",
    "        even_number.append(data)\n",
    "        \n",
    "print(even_number)"
   ]
  },
  {
   "cell_type": "code",
   "execution_count": 32,
   "id": "471b755e",
   "metadata": {},
   "outputs": [
    {
     "name": "stdout",
     "output_type": "stream",
     "text": [
      "[0, 2, 4, 6, 8]\n"
     ]
    }
   ],
   "source": [
    "all_number = [x for x in range(10)]\n",
    "even_number = [x for x in all_number if x % 2 == 0]\n",
    "    \n",
    "print(even_number)"
   ]
  },
  {
   "cell_type": "markdown",
   "id": "3cf645b5",
   "metadata": {},
   "source": [
    "## 반복문 - while, break, continue"
   ]
  },
  {
   "cell_type": "code",
   "execution_count": 33,
   "id": "5f17ca54",
   "metadata": {},
   "outputs": [
    {
     "name": "stdout",
     "output_type": "stream",
     "text": [
      "data == 5\n",
      "data == 4\n",
      "data == 3\n",
      "data == 2\n",
      "data == 1\n",
      "data == 0\n"
     ]
    }
   ],
   "source": [
    "data = 5\n",
    "\n",
    "while data >= 0:\n",
    "    print(\"data ==\", data)\n",
    "    data -= 1"
   ]
  },
  {
   "cell_type": "code",
   "execution_count": 35,
   "id": "564da07c",
   "metadata": {},
   "outputs": [
    {
     "name": "stdout",
     "output_type": "stream",
     "text": [
      "data == 5\n",
      "continue here\n",
      "data == 4\n",
      "continue here\n",
      "data == 3\n",
      "break here\n"
     ]
    }
   ],
   "source": [
    "data = 5\n",
    "\n",
    "while data >= 0:\n",
    "    print(\"data ==\", data)\n",
    "    data -= 1\n",
    "    \n",
    "    if data == 2:\n",
    "        print(\"break here\")\n",
    "        break\n",
    "    else:\n",
    "        print(\"continue here\")\n",
    "        continue"
   ]
  }
 ],
 "metadata": {
  "kernelspec": {
   "display_name": "Python 3 (ipykernel)",
   "language": "python",
   "name": "python3"
  },
  "language_info": {
   "codemirror_mode": {
    "name": "ipython",
    "version": 3
   },
   "file_extension": ".py",
   "mimetype": "text/x-python",
   "name": "python",
   "nbconvert_exporter": "python",
   "pygments_lexer": "ipython3",
   "version": "3.9.13"
  }
 },
 "nbformat": 4,
 "nbformat_minor": 5
}
