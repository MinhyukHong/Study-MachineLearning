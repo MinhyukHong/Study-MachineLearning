{
 "cells": [
  {
   "cell_type": "markdown",
   "id": "e40d920f",
   "metadata": {},
   "source": [
    "**수치미분 ver.final - review**"
   ]
  },
  {
   "cell_type": "code",
   "execution_count": 1,
   "id": "7d6c5357",
   "metadata": {},
   "outputs": [],
   "source": [
    "import numpy as np\n",
    "\n",
    "def numerical_derivative(f, x):\n",
    "    delta_x = 1e-4\n",
    "    # grad 변수는 입력 파라미터 x에 대해서 수치미분을 계산하고 그 결과값을 저장하는 변수\n",
    "    # zeros_like를 통하여 생성되었기 때문에, x와 동일한 크기를 가짐\n",
    "    grad = np.zeros_like(x)\n",
    "    \n",
    "    it = np.nditer(x, flags=['multi_index'], op_flags=['readwrite'])\n",
    "    \n",
    "    while not it.finished:\n",
    "        idx = it.multi_index\n",
    "        \n",
    "        tmp_val = x[idx]\n",
    "        x[idx] = float(tmp_val) + delta_x\n",
    "        fx1 = f(x) # f(x+delta_x)\n",
    "        \n",
    "        x[idx] = tmp_val - delta_x\n",
    "        fx2 = f(x)\n",
    "        grad[idx] = (fx1 - fx2) / (2*delta_x)\n",
    "        \n",
    "        x[idx] = tmp_val\n",
    "        it.iternext()\n",
    "    \n",
    "    return grad"
   ]
  },
  {
   "cell_type": "markdown",
   "id": "76936e08",
   "metadata": {},
   "source": [
    "## 수치미분 예제\n",
    "* 수치미분 함수 정의"
   ]
  },
  {
   "cell_type": "code",
   "execution_count": 12,
   "id": "9d6c938e",
   "metadata": {},
   "outputs": [],
   "source": [
    "import numpy as np\n",
    "\n",
    "def numerical_derivative(f, x):    # 수치미분 debug version\n",
    "    delta_x = 1e-4\n",
    "    grad = np.zeros_like(x)\n",
    "    print(\"debug 1. initial input variable =\", x)\n",
    "    print(\"debug 2. initial grad =\", grad)\n",
    "    print(\"=======================================\")\n",
    "    \n",
    "    it = np.nditer(x, flags=['multi_index'], op_flags=['readwrite'])\n",
    "    \n",
    "    while not it.finished:\n",
    "        idx = it.multi_index\n",
    "        \n",
    "        print(\"debug 3. dix = \", idx, \", x[idx] = \", x[idx])\n",
    "        \n",
    "        tmp_val = x[idx]\n",
    "        x[idx] = float(tmp_val) + delta_x\n",
    "        fx1 = f(x) # f(x+delta_x)\n",
    "        \n",
    "        x[idx] = tmp_val - delta_x\n",
    "        fx2 = f(x) # f(x-delta_x)\n",
    "        grad[idx] = (fx1 - fx2) / (2*delta_x)\n",
    "        \n",
    "        print(\"debug 4. grad[idx] = \", grad[idx])\n",
    "        print(\"debug 5. grad = \", grad)\n",
    "        print(\"=======================================\")\n",
    "        \n",
    "        x[idx] = tmp_val\n",
    "        it.iternext()\n",
    "        \n",
    "    return grad"
   ]
  },
  {
   "cell_type": "markdown",
   "id": "605c9a19",
   "metadata": {},
   "source": [
    "**수치미분 예제 - 1변수 함수 f(x) = x^2, f'(3.0)**<br>\n",
    "\n",
    "수치미분에서 가장 먼저 해야 하는 것은 함수 f를 정의하는 것<br>\n",
    "입력 파라미터 input_obj는 벡터나 행렬을 나타내는 numpy 객체. 수치미분 함수에서 두번째 입력 파라미터 x를 numpy 객체로 받기 때문이다.<br>"
   ]
  },
  {
   "cell_type": "code",
   "execution_count": 13,
   "id": "b5bfb6cb",
   "metadata": {},
   "outputs": [],
   "source": [
    "# 입력변수 1개인 함수 f(x) = x**2\n",
    "def func1(input_obj):\n",
    "    \n",
    "    x = input_obj[0]\n",
    "    \n",
    "    return x**2"
   ]
  },
  {
   "cell_type": "code",
   "execution_count": 14,
   "id": "326b23fa",
   "metadata": {},
   "outputs": [
    {
     "name": "stdout",
     "output_type": "stream",
     "text": [
      "debug 1. initial input variable = [3.]\n",
      "debug 2. initial grad = [0.]\n",
      "=======================================\n",
      "debug 3. dix =  (0,) , x[idx] =  3.0\n",
      "debug 4. grad[idx] =  6.000000000012662\n",
      "debug 5. grad =  [6.]\n",
      "=======================================\n"
     ]
    },
    {
     "data": {
      "text/plain": [
       "array([6.])"
      ]
     },
     "execution_count": 14,
     "metadata": {},
     "output_type": "execute_result"
    }
   ],
   "source": [
    "# x = 3.0 에서의 편미분 값\n",
    "numerical_derivative(func1, np.array([3.0]))"
   ]
  },
  {
   "cell_type": "markdown",
   "id": "0c8192ab",
   "metadata": {},
   "source": [
    "**편미분 예제 - 2변수 함수 f(x, y) = 2x + 3xy + y^3, f'(1.0, 2.0)**<br>\n",
    "\n",
    "각 1.0과 2.0을 가지는 numpy 벡터를 수치미분 함수로 함수 이름과 함께 넘겨줌<br>\n",
    "결과는 입력 파라미터의 갯수만큼 while문이 두번 실행되고, 실행 시마다 미분값이 계산되어 grad에 저장"
   ]
  },
  {
   "cell_type": "code",
   "execution_count": 19,
   "id": "499356b0",
   "metadata": {},
   "outputs": [],
   "source": [
    "# 입력 변수 2개인 함수 f(x, y) = 2x + 3xy + y^3\n",
    "def func1(input_obj):\n",
    "    \n",
    "    x = input_obj[0]\n",
    "    y = input_obj[1]\n",
    "    \n",
    "    return ( 2*x + 3*x*y + np.power(y,3))"
   ]
  },
  {
   "cell_type": "code",
   "execution_count": 20,
   "id": "8bd8da65",
   "metadata": {},
   "outputs": [
    {
     "name": "stdout",
     "output_type": "stream",
     "text": [
      "debug 1. initial input variable = [1. 2.]\n",
      "debug 2. initial grad = [0. 0.]\n",
      "=======================================\n",
      "debug 3. dix =  (0,) , x[idx] =  1.0\n",
      "debug 4. grad[idx] =  7.999999999990237\n",
      "debug 5. grad =  [8. 0.]\n",
      "=======================================\n",
      "debug 3. dix =  (1,) , x[idx] =  2.0\n",
      "debug 4. grad[idx] =  15.000000010019221\n",
      "debug 5. grad =  [ 8.         15.00000001]\n",
      "=======================================\n"
     ]
    },
    {
     "data": {
      "text/plain": [
       "array([ 8.        , 15.00000001])"
      ]
     },
     "execution_count": 20,
     "metadata": {},
     "output_type": "execute_result"
    }
   ],
   "source": [
    "# (x,y) = (1.0, 2.0) 에서의 편미분 값\n",
    "input = np.array([1.0, 2.0])\n",
    "numerical_derivative(func1, input)"
   ]
  },
  {
   "cell_type": "markdown",
   "id": "c6af1ec0",
   "metadata": {},
   "source": [
    "**편미분 예제 - 4변수 함수 f(w, x, y, z) = wx + xyz + 3w + zy^2, f'(1.0, 2.0, 3.0, 4.0)** <br>\n",
    "\n",
    "func1 함수의 입력 파라미터로 numpy의 벡터가 아닌, 2X2의 행렬을 입력 받음<br>"
   ]
  },
  {
   "cell_type": "code",
   "execution_count": 21,
   "id": "0c0af0f5",
   "metadata": {},
   "outputs": [],
   "source": [
    "# 입력 변수 4개인 함수\n",
    "# f(w,x,y,z) = wx + xyz + 3w + zy^2\n",
    "# input_obj 는 행렬\n",
    "def func1(input_obj):\n",
    "    \n",
    "    w = input_obj[0, 0]\n",
    "    x = input_obj[0, 1]\n",
    "    y = input_obj[1, 0]\n",
    "    z = input_obj[1, 1]\n",
    "    \n",
    "    return (w*x + x*y*z + 3*w + z*np.power(y, 2))"
   ]
  },
  {
   "cell_type": "code",
   "execution_count": 22,
   "id": "249798a3",
   "metadata": {},
   "outputs": [
    {
     "name": "stdout",
     "output_type": "stream",
     "text": [
      "debug 1. initial input variable = [[1. 2.]\n",
      " [3. 4.]]\n",
      "debug 2. initial grad = [[0. 0.]\n",
      " [0. 0.]]\n",
      "=======================================\n",
      "debug 3. dix =  (0, 0) , x[idx] =  1.0\n",
      "debug 4. grad[idx] =  5.000000000023874\n",
      "debug 5. grad =  [[5. 0.]\n",
      " [0. 0.]]\n",
      "=======================================\n",
      "debug 3. dix =  (0, 1) , x[idx] =  2.0\n",
      "debug 4. grad[idx] =  13.00000000000523\n",
      "debug 5. grad =  [[ 5. 13.]\n",
      " [ 0.  0.]]\n",
      "=======================================\n",
      "debug 3. dix =  (1, 0) , x[idx] =  3.0\n",
      "debug 4. grad[idx] =  32.00000000006753\n",
      "debug 5. grad =  [[ 5. 13.]\n",
      " [32.  0.]]\n",
      "=======================================\n",
      "debug 3. dix =  (1, 1) , x[idx] =  4.0\n",
      "debug 4. grad[idx] =  15.000000000000568\n",
      "debug 5. grad =  [[ 5. 13.]\n",
      " [32. 15.]]\n",
      "=======================================\n"
     ]
    },
    {
     "data": {
      "text/plain": [
       "array([[ 5., 13.],\n",
       "       [32., 15.]])"
      ]
     },
     "execution_count": 22,
     "metadata": {},
     "output_type": "execute_result"
    }
   ],
   "source": [
    "# 입력을 2X2 행렬로 구성함\n",
    "input = np.array([ [1.0, 2.0], [3.0, 4.0] ])\n",
    "\n",
    "numerical_derivative(func1, input)"
   ]
  }
 ],
 "metadata": {
  "kernelspec": {
   "display_name": "Python 3 (ipykernel)",
   "language": "python",
   "name": "python3"
  },
  "language_info": {
   "codemirror_mode": {
    "name": "ipython",
    "version": 3
   },
   "file_extension": ".py",
   "mimetype": "text/x-python",
   "name": "python",
   "nbconvert_exporter": "python",
   "pygments_lexer": "ipython3",
   "version": "3.9.13"
  }
 },
 "nbformat": 4,
 "nbformat_minor": 5
}
