{
 "cells": [
  {
   "cell_type": "markdown",
   "id": "cb5c6124",
   "metadata": {},
   "source": [
    "## 함수 - function"
   ]
  },
  {
   "cell_type": "code",
   "execution_count": 1,
   "id": "8a8de095",
   "metadata": {},
   "outputs": [
    {
     "name": "stdout",
     "output_type": "stream",
     "text": [
      "30\n"
     ]
    }
   ],
   "source": [
    "def sum(x, y):\n",
    "    \n",
    "    s = x + y\n",
    "    return s\n",
    "\n",
    "result = sum(10, 20)\n",
    "print(result)"
   ]
  },
  {
   "cell_type": "code",
   "execution_count": 3,
   "id": "4988426e",
   "metadata": {},
   "outputs": [
    {
     "name": "stdout",
     "output_type": "stream",
     "text": [
      "101 102 103\n"
     ]
    }
   ],
   "source": [
    "def multi_ret_func(x):\n",
    "    \n",
    "    return x + 1, x + 2, x + 3 # return (x + 1, x + 2, x + 3) 튜플 형식도 가능\n",
    "\n",
    "x = 100\n",
    "y1, y2, y3 = multi_ret_func(x) # (y1, y2, y3) = multi_ret_func(x)\n",
    "\n",
    "print(y1, y2, y3)"
   ]
  },
  {
   "cell_type": "markdown",
   "id": "949aab42",
   "metadata": {},
   "source": [
    "### default parameter\n",
    "=> 함수의 입력 파라미터에 기본 값을 지정하는 것을 말하며,<br>\n",
    "=> 이러한 디폴트 파라미터는, 함수가 호출되었을 경우 입력 파라미터에 명시적인 값이 전달되지 않으면 기본으로 지정한 값을 사용하겠다는 의미"
   ]
  },
  {
   "cell_type": "code",
   "execution_count": 8,
   "id": "b6c33c72",
   "metadata": {},
   "outputs": [
    {
     "name": "stdout",
     "output_type": "stream",
     "text": [
      "name == DAVE\n",
      "name == DAVE\n"
     ]
    }
   ],
   "source": [
    "def print_name(name, count=2):\n",
    "    \n",
    "    for i in range(count):\n",
    "        print(\"name ==\", name)\n",
    "\n",
    "print_name(\"DAVE\") # print_name(\"DAVE\", 5)"
   ]
  },
  {
   "cell_type": "markdown",
   "id": "45497857",
   "metadata": {},
   "source": [
    "### mutable / immutable parameter\n",
    "=> 입력 파라미터가 mutable(list, dict, numpy 등) 데이터형인 경우는 원래의 데이터에 변형이 일어남 <br>\n",
    "=> immutable(숫자, 문자, tuple 등)은 원래의 데이터에 변형이 일어나지 않음"
   ]
  },
  {
   "cell_type": "code",
   "execution_count": 9,
   "id": "28c90f91",
   "metadata": {},
   "outputs": [
    {
     "name": "stdout",
     "output_type": "stream",
     "text": [
      "x == 1 , test_list == [1, 2, 3, 100]\n"
     ]
    }
   ],
   "source": [
    "def mutable_immutable_func(int_x, input_list):\n",
    "    \n",
    "    int_x += 1\n",
    "    input_list.append(100)\n",
    "\n",
    "x = 1\n",
    "test_list = [1, 2, 3]\n",
    "\n",
    "mutable_immutable_func(x, test_list)\n",
    "\n",
    "print(\"x ==\", x, \", test_list ==\", test_list)"
   ]
  },
  {
   "cell_type": "markdown",
   "id": "8ab95b6c",
   "metadata": {},
   "source": [
    "## 함수 - lambda\n",
    "=> 람다(lambda)는 한 줄로 함수를 작성하는 방법으로, 익명(anonymous)함수 또는 람다 표현식(lambda expression) 등으로 불림 <br>\n",
    "=> lambda는 다른 함수의 인수(parameter)로 넣을 때 주로 사용하며, 특히 머신러닝에서 미분을 계산하기 위해 필요한 수치 미분(numerical derivative)과 활성화 함수(activation function) 등을 표현할 때, 수학에서 함수 표현처럼 f(x), f(x, y) 등으로 사용되며, 마지막 표현으로 대체된다는 의미 <br><br>\n",
    "(C언어의 #define P printf처럼 표현을 대체해줌) <br>\n",
    "함수명 = lambda 입력1, 입력2,... : 대체되는 표현식"
   ]
  },
  {
   "cell_type": "code",
   "execution_count": 10,
   "id": "0a284d65",
   "metadata": {},
   "outputs": [
    {
     "name": "stdout",
     "output_type": "stream",
     "text": [
      "100\n",
      "101\n",
      "102\n"
     ]
    }
   ],
   "source": [
    "f = lambda x : x + 100\n",
    "\n",
    "for i in range(3):\n",
    "    print(f(i))"
   ]
  },
  {
   "cell_type": "code",
   "execution_count": 6,
   "id": "f42871ff",
   "metadata": {},
   "outputs": [
    {
     "name": "stdout",
     "output_type": "stream",
     "text": [
      "input1 == 100 , input2 == 200\n",
      "hello python\n"
     ]
    }
   ],
   "source": [
    "def print_hello():\n",
    "    \n",
    "    print(\"hello python\")\n",
    "    \n",
    "def test_lambda(s, t):\n",
    "    \n",
    "    print(\"input1 ==\", s, \", input2 ==\", t)\n",
    "\n",
    "#s = 100\n",
    "#t = 200\n",
    "\n",
    "fx = lambda x, y : test_lambda(s, t) # fx(x, y) = test_lambda(s, t)\n",
    "fy = lambda x, y : print_hello() # fy(x, y) = print_hello()\n",
    "\n",
    "fx(500, 1000)\n",
    "fy(300, 600)"
   ]
  }
 ],
 "metadata": {
  "kernelspec": {
   "display_name": "Python 3 (ipykernel)",
   "language": "python",
   "name": "python3"
  },
  "language_info": {
   "codemirror_mode": {
    "name": "ipython",
    "version": 3
   },
   "file_extension": ".py",
   "mimetype": "text/x-python",
   "name": "python",
   "nbconvert_exporter": "python",
   "pygments_lexer": "ipython3",
   "version": "3.9.13"
  }
 },
 "nbformat": 4,
 "nbformat_minor": 5
}
